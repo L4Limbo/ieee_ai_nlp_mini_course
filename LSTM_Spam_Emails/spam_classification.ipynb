{
 "cells": [
  {
   "cell_type": "markdown",
   "metadata": {},
   "source": [
    "# Libraries in need"
   ]
  },
  {
   "cell_type": "code",
   "execution_count": 1,
   "metadata": {},
   "outputs": [],
   "source": [
    "import numpy as np\n",
    "import pandas as pd\n",
    "import seaborn as sns\n",
    "import matplotlib.pyplot as plt\n",
    "\n",
    "import nltk\n",
    "from nltk.corpus import stopwords\n",
    "from nltk.stem import WordNetLemmatizer\n",
    "import string\n",
    "import os\n",
    "\n",
    "from keras.preprocessing.text import one_hot\n",
    "from keras.preprocessing.sequence import pad_sequences\n",
    "from keras.preprocessing.text import Tokenizer\n",
    "from keras.preprocessing import sequence\n",
    "\n",
    "from keras.models import Model, Sequential\n",
    "from keras.layers import Dense, Flatten, LSTM, Activation, Dense, Dropout, Input, Embedding\n",
    "from keras.layers.embeddings import Embedding\n",
    "\n",
    "from keras.optimizers import RMSprop, Adam\n",
    "\n",
    "from sklearn.model_selection import train_test_split\n",
    "from sklearn.model_selection import train_test_split\n"
   ]
  },
  {
   "cell_type": "markdown",
   "metadata": {},
   "source": [
    "# Exploring the dataset"
   ]
  },
  {
   "cell_type": "code",
   "execution_count": 3,
   "metadata": {},
   "outputs": [],
   "source": [
    "df = pd.read_csv(r'C:\\Users\\Anestis\\Desktop\\Limbo\\4_IEEE\\AI_SG_NLP_COURSE\\LSTM_Spam_Emails\\spam_or_not_spam.csv')"
   ]
  },
  {
   "cell_type": "markdown",
   "metadata": {},
   "source": [
    "## Get to know the data"
   ]
  },
  {
   "cell_type": "code",
   "execution_count": 4,
   "metadata": {},
   "outputs": [
    {
     "data": {
      "text/html": [
       "<div>\n",
       "<style scoped>\n",
       "    .dataframe tbody tr th:only-of-type {\n",
       "        vertical-align: middle;\n",
       "    }\n",
       "\n",
       "    .dataframe tbody tr th {\n",
       "        vertical-align: top;\n",
       "    }\n",
       "\n",
       "    .dataframe thead th {\n",
       "        text-align: right;\n",
       "    }\n",
       "</style>\n",
       "<table border=\"1\" class=\"dataframe\">\n",
       "  <thead>\n",
       "    <tr style=\"text-align: right;\">\n",
       "      <th></th>\n",
       "      <th>email</th>\n",
       "      <th>label</th>\n",
       "    </tr>\n",
       "  </thead>\n",
       "  <tbody>\n",
       "    <tr>\n",
       "      <th>0</th>\n",
       "      <td>mike bostock said received from trackingNUMBE...</td>\n",
       "      <td>0</td>\n",
       "    </tr>\n",
       "    <tr>\n",
       "      <th>1</th>\n",
       "      <td>no i was just a little confused because i m r...</td>\n",
       "      <td>0</td>\n",
       "    </tr>\n",
       "    <tr>\n",
       "      <th>2</th>\n",
       "      <td>this is just an semi educated guess if i m wro...</td>\n",
       "      <td>0</td>\n",
       "    </tr>\n",
       "    <tr>\n",
       "      <th>3</th>\n",
       "      <td>jm URL justin mason writes except for NUMBER t...</td>\n",
       "      <td>0</td>\n",
       "    </tr>\n",
       "    <tr>\n",
       "      <th>4</th>\n",
       "      <td>i just picked up razor sdk NUMBER NUMBER and N...</td>\n",
       "      <td>0</td>\n",
       "    </tr>\n",
       "  </tbody>\n",
       "</table>\n",
       "</div>"
      ],
      "text/plain": [
       "                                               email  label\n",
       "0   mike bostock said received from trackingNUMBE...      0\n",
       "1   no i was just a little confused because i m r...      0\n",
       "2  this is just an semi educated guess if i m wro...      0\n",
       "3  jm URL justin mason writes except for NUMBER t...      0\n",
       "4  i just picked up razor sdk NUMBER NUMBER and N...      0"
      ]
     },
     "execution_count": 4,
     "metadata": {},
     "output_type": "execute_result"
    }
   ],
   "source": [
    "df.head()"
   ]
  },
  {
   "cell_type": "code",
   "execution_count": 4,
   "metadata": {},
   "outputs": [
    {
     "data": {
      "text/plain": [
       "<matplotlib.axes._subplots.AxesSubplot at 0x2d413c2ba48>"
      ]
     },
     "execution_count": 4,
     "metadata": {},
     "output_type": "execute_result"
    },
    {
     "data": {
      "image/png": "[encoded data removed]",
      "text/plain": [
       "<Figure size 432x288 with 1 Axes>"
      ]
     },
     "metadata": {
      "needs_background": "light"
     },
     "output_type": "display_data"
    }
   ],
   "source": [
    "sns.countplot(x='label', data=df)"
   ]
  },
  {
   "cell_type": "code",
   "execution_count": 5,
   "metadata": {},
   "outputs": [
    {
     "name": "stdout",
     "output_type": "stream",
     "text": [
      "not spam emails:  email    1000\n",
      "label    1000\n",
      "dtype: int64\n",
      "spam emails:  email    499\n",
      "label    500\n",
      "dtype: int64\n",
      "shape:  (1500, 2)\n"
     ]
    }
   ],
   "source": [
    "print(\"not spam emails: \", df[df.label == 0].count())\n",
    "print(\"spam emails: \", df[df.label == 1].count())\n",
    "print(\"shape: \", df.shape)"
   ]
  },
  {
   "cell_type": "markdown",
   "metadata": {},
   "source": [
    "# Preprocessing Stage"
   ]
  },
  {
   "cell_type": "markdown",
   "metadata": {},
   "source": [
    "## Basic clean"
   ]
  },
  {
   "cell_type": "code",
   "execution_count": 6,
   "metadata": {},
   "outputs": [
    {
     "data": {
      "text/plain": [
       "(1376, 2)"
      ]
     },
     "execution_count": 6,
     "metadata": {},
     "output_type": "execute_result"
    }
   ],
   "source": [
    "df.drop_duplicates(inplace=True)\n",
    "df.dropna(inplace=True)\n",
    "df.shape"
   ]
  },
  {
   "cell_type": "markdown",
   "metadata": {},
   "source": [
    "## Text Processing\n",
    "\n",
    "1. Lemmatization\n",
    "2. Strings -> Lists of words\n",
    "3. Words to lower\n",
    "4. Stopwords Execution"
   ]
  },
  {
   "cell_type": "code",
   "execution_count": 7,
   "metadata": {
    "tags": []
   },
   "outputs": [],
   "source": [
    "def process(text):\n",
    "    lemmatizer = WordNetLemmatizer()\n",
    "  \n",
    "    nopunc = [char for char in text if char not in string.punctuation]\n",
    "    nopunc = ''.join(nopunc).lower()\n",
    "    clean = [lemmatizer.lemmatize(word) for word in nopunc.split() if word.lower() not in stopwords.words('english')]\n",
    "\n",
    "    return clean\n",
    "\n",
    "df['email'] = df['email'].apply(process)"
   ]
  },
  {
   "cell_type": "markdown",
   "metadata": {},
   "source": [
    "new 'email form'"
   ]
  },
  {
   "cell_type": "code",
   "execution_count": 8,
   "metadata": {},
   "outputs": [
    {
     "data": {
      "text/plain": [
       "0       [mike, bostock, said, received, trackingnumber...\n",
       "1       [little, confused, running, procmail, gateway,...\n",
       "2       [semi, educated, guess, wrong, someone, please...\n",
       "3       [jm, url, justin, mason, writes, except, numbe...\n",
       "4       [picked, razor, sdk, number, number, number, n...\n",
       "                              ...                        \n",
       "1495    [abc, good, morning, america, rank, number, ch...\n",
       "1496    [hyperlink, hyperlink, hyperlink, let, mortgag...\n",
       "1497    [thank, shopping, u, gift, occasion, free, gif...\n",
       "1498    [famous, ebay, marketing, e, course, learn, se...\n",
       "1499    [hello, chinese, traditional, 子, 件, number世, o...\n",
       "Name: email, Length: 1376, dtype: object"
      ]
     },
     "execution_count": 8,
     "metadata": {},
     "output_type": "execute_result"
    }
   ],
   "source": [
    "df.email"
   ]
  },
  {
   "cell_type": "markdown",
   "metadata": {},
   "source": [
    "# The Model"
   ]
  },
  {
   "cell_type": "markdown",
   "metadata": {},
   "source": [
    "## Test / Train split\n"
   ]
  },
  {
   "cell_type": "code",
   "execution_count": 9,
   "metadata": {},
   "outputs": [],
   "source": [
    "X = df.email\n",
    "Y = df.label\n",
    "\n",
    "X_train,X_test,Y_train,Y_test = train_test_split(X,Y,test_size=0.25)"
   ]
  },
  {
   "cell_type": "markdown",
   "metadata": {},
   "source": [
    "## Tokenization\n",
    "Words -> integers\n",
    "#### max email length -> 400 (almost max email length in the dataset) => test different max lengths\n",
    "#### max sequence length -> 150 "
   ]
  },
  {
   "cell_type": "code",
   "execution_count": 10,
   "metadata": {
    "tags": []
   },
   "outputs": [],
   "source": [
    "max_words = 400\n",
    "max_len = 150\n",
    "tok = Tokenizer(num_words=max_words)\n",
    "tok.fit_on_texts(X_train)\n",
    "\n",
    "sequences = tok.texts_to_sequences(X_train)\n",
    "sequences_matrix = pad_sequences(sequences,maxlen=max_len)"
   ]
  },
  {
   "cell_type": "code",
   "execution_count": 11,
   "metadata": {},
   "outputs": [
    {
     "data": {
      "text/plain": [
       "array([[  0,   0,   0, ...,  20,   2,   2],\n",
       "       [  0,   0,   0, ...,   1,   1,   1],\n",
       "       [  0,   0,   0, ...,  20,   2,   2],\n",
       "       ...,\n",
       "       [  0,   0,   0, ...,  89,  78,   2],\n",
       "       [  0,   0,   0, ...,   2,   1,   2],\n",
       "       [  0,   0,   0, ...,  71, 362,  13]])"
      ]
     },
     "execution_count": 11,
     "metadata": {},
     "output_type": "execute_result"
    }
   ],
   "source": [
    "sequences_matrix"
   ]
  },
  {
   "cell_type": "markdown",
   "metadata": {},
   "source": [
    "## Building the Model\n",
    "\n",
    "1. Embedding Layer \n",
    "2. LSTM Layer\n",
    "3. Dense Layer\n",
    "4. ReLU Activation Function\n",
    "5. Dropout -> [0.5, 0.8]\n",
    "6. Sigmoid Activation function -> values belong to [0, 1]"
   ]
  },
  {
   "cell_type": "code",
   "execution_count": 12,
   "metadata": {},
   "outputs": [],
   "source": [
    "def RNN():\n",
    "    inputs = Input(name='Input_LAYER',shape=[max_len])\n",
    "    layer = Embedding(max_words,max_len,input_length=(max_len,max_words), trainable=False, name=\"embedding\")(inputs)\n",
    "    layer = LSTM(64)(layer)\n",
    "    layer = Dense(256,name='FC1')(layer)\n",
    "    layer = Activation('relu')(layer)\n",
    "    layer = Dropout(0.5)(layer)\n",
    "    layer = Dense(1,name='Output_Layer')(layer)\n",
    "    layer = Dense(1, activation=\"sigmoid\", name=\"predictions\")(layer)\n",
    "    model = Model(inputs=inputs,outputs=layer)\n",
    "    return model"
   ]
  },
  {
   "cell_type": "markdown",
   "metadata": {},
   "source": [
    "## Compiling and training the model"
   ]
  },
  {
   "cell_type": "code",
   "execution_count": 13,
   "metadata": {},
   "outputs": [
    {
     "name": "stdout",
     "output_type": "stream",
     "text": [
      "Model: \"model\"\n",
      "_________________________________________________________________\n",
      "Layer (type)                 Output Shape              Param #   \n",
      "=================================================================\n",
      "Input_LAYER (InputLayer)     [(None, 150)]             0         \n",
      "_________________________________________________________________\n",
      "embedding (Embedding)        (None, 150, 150)          60000     \n",
      "_________________________________________________________________\n",
      "lstm (LSTM)                  (None, 64)                55040     \n",
      "_________________________________________________________________\n",
      "FC1 (Dense)                  (None, 256)               16640     \n",
      "_________________________________________________________________\n",
      "activation (Activation)      (None, 256)               0         \n",
      "_________________________________________________________________\n",
      "dropout (Dropout)            (None, 256)               0         \n",
      "_________________________________________________________________\n",
      "Output_Layer (Dense)         (None, 1)                 257       \n",
      "_________________________________________________________________\n",
      "predictions (Dense)          (None, 1)                 2         \n",
      "=================================================================\n",
      "Total params: 131,939\n",
      "Trainable params: 71,939\n",
      "Non-trainable params: 60,000\n",
      "_________________________________________________________________\n"
     ]
    }
   ],
   "source": [
    "model = RNN()\n",
    "model.summary()\n",
    "model.compile(loss='binary_crossentropy',optimizer=Adam(1e-4),metrics=['accuracy'])"
   ]
  },
  {
   "cell_type": "code",
   "execution_count": 14,
   "metadata": {},
   "outputs": [
    {
     "name": "stdout",
     "output_type": "stream",
     "text": [
      "Epoch 1/20\n",
      "17/17 [==============================] - 4s 109ms/step - loss: 0.6936 - accuracy: 0.4477\n",
      "Epoch 2/20\n",
      "17/17 [==============================] - 2s 111ms/step - loss: 0.6898 - accuracy: 0.6890\n",
      "Epoch 3/20\n",
      "17/17 [==============================] - 2s 105ms/step - loss: 0.6848 - accuracy: 0.6983\n",
      "Epoch 4/20\n",
      "17/17 [==============================] - 2s 99ms/step - loss: 0.6783 - accuracy: 0.7123\n",
      "Epoch 5/20\n",
      "17/17 [==============================] - 2s 101ms/step - loss: 0.6673 - accuracy: 0.7086\n",
      "Epoch 6/20\n",
      "17/17 [==============================] - 2s 102ms/step - loss: 0.6468 - accuracy: 0.6890\n",
      "Epoch 7/20\n",
      "17/17 [==============================] - 2s 98ms/step - loss: 0.5789 - accuracy: 0.6787\n",
      "Epoch 8/20\n",
      "17/17 [==============================] - 2s 100ms/step - loss: 0.5527 - accuracy: 0.6847\n",
      "Epoch 9/20\n",
      "17/17 [==============================] - 2s 107ms/step - loss: 0.5291 - accuracy: 0.6902\n",
      "Epoch 10/20\n",
      "17/17 [==============================] - 2s 103ms/step - loss: 0.5078 - accuracy: 0.7051\n",
      "Epoch 11/20\n",
      "17/17 [==============================] - 2s 99ms/step - loss: 0.5179 - accuracy: 0.6960\n",
      "Epoch 12/20\n",
      "17/17 [==============================] - 2s 102ms/step - loss: 0.5164 - accuracy: 0.6922\n",
      "Epoch 13/20\n",
      "17/17 [==============================] - 2s 108ms/step - loss: 0.5325 - accuracy: 0.6858\n",
      "Epoch 14/20\n",
      "17/17 [==============================] - 2s 108ms/step - loss: 0.5024 - accuracy: 0.6994\n",
      "Epoch 15/20\n",
      "17/17 [==============================] - 2s 100ms/step - loss: 0.5019 - accuracy: 0.7206\n",
      "Epoch 16/20\n",
      "17/17 [==============================] - 2s 98ms/step - loss: 0.5004 - accuracy: 0.7203\n",
      "Epoch 17/20\n",
      "17/17 [==============================] - 2s 98ms/step - loss: 0.4877 - accuracy: 0.7316\n",
      "Epoch 18/20\n",
      "17/17 [==============================] - 2s 103ms/step - loss: 0.4949 - accuracy: 0.7304\n",
      "Epoch 19/20\n",
      "17/17 [==============================] - 2s 99ms/step - loss: 0.4700 - accuracy: 0.7604\n",
      "Epoch 20/20\n",
      "17/17 [==============================] - 2s 105ms/step - loss: 0.4585 - accuracy: 0.7877\n"
     ]
    }
   ],
   "source": [
    "history = model.fit(sequences_matrix,Y_train,batch_size=64,epochs=20,shuffle=True)"
   ]
  },
  {
   "cell_type": "markdown",
   "metadata": {},
   "source": [
    "# Results and Evaluation"
   ]
  },
  {
   "cell_type": "markdown",
   "metadata": {},
   "source": [
    "## Checking the results in the test set"
   ]
  },
  {
   "cell_type": "code",
   "execution_count": 15,
   "metadata": {},
   "outputs": [],
   "source": [
    "max_words = 400\n",
    "max_len = 150\n",
    "tok_test = Tokenizer(num_words=max_words)\n",
    "tok_test.fit_on_texts(X_test)\n",
    "\n",
    "sequences_test = tok.texts_to_sequences(X_test)\n",
    "sequences_matrix_test = pad_sequences(sequences_test,maxlen=max_len)\n",
    "\n",
    "predictions = model.predict(sequences_matrix_test)"
   ]
  },
  {
   "cell_type": "markdown",
   "metadata": {},
   "source": [
    "less than 0.5 => NOT SPAM\n",
    "\n",
    "more than 0.5 => SPAM"
   ]
  },
  {
   "cell_type": "code",
   "execution_count": 16,
   "metadata": {},
   "outputs": [],
   "source": [
    "test_pred = []\n",
    "for c in predictions:\n",
    "    if c > 0.5:\n",
    "        test_pred.append(1)\n",
    "    else:\n",
    "        test_pred.append(0)"
   ]
  },
  {
   "cell_type": "code",
   "execution_count": 17,
   "metadata": {},
   "outputs": [
    {
     "name": "stdout",
     "output_type": "stream",
     "text": [
      "              precision    recall  f1-score   support\n",
      "\n",
      "           0       0.75      0.98      0.85       238\n",
      "           1       0.88      0.28      0.43       106\n",
      "\n",
      "    accuracy                           0.77       344\n",
      "   macro avg       0.82      0.63      0.64       344\n",
      "weighted avg       0.79      0.77      0.72       344\n",
      "\n",
      "0.7674418604651163\n"
     ]
    }
   ],
   "source": [
    "# Metrics\n",
    "from sklearn.metrics import f1_score, precision_score, recall_score, confusion_matrix, accuracy_score, classification_report\n",
    "\n",
    "recall = recall_score(Y_test, test_pred, average='binary')\n",
    "precision = precision_score(Y_test, test_pred, average='binary')\n",
    "f1 = f1_score(Y_test, test_pred, average='binary')\n",
    "\n",
    "\n",
    "print(classification_report(Y_test, test_pred))\n",
    "print(accuracy_score(Y_test, test_pred))"
   ]
  },
  {
   "cell_type": "markdown",
   "metadata": {},
   "source": [
    "## Some Plots to understand better the training"
   ]
  },
  {
   "cell_type": "code",
   "execution_count": 18,
   "metadata": {},
   "outputs": [
    {
     "data": {
      "image/png": "[encoded data removed]",
      "text/plain": [
       "<Figure size 432x288 with 1 Axes>"
      ]
     },
     "metadata": {
      "needs_background": "light"
     },
     "output_type": "display_data"
    }
   ],
   "source": [
    "history.history.keys()\n",
    "\n",
    "plt.plot(history.history['accuracy'])\n",
    "plt.title('model accuracy')\n",
    "plt.ylabel('accuracy')\n",
    "plt.xlabel('epoch')\n",
    "plt.legend(['train'], loc='upper left')\n",
    "plt.show()"
   ]
  },
  {
   "cell_type": "code",
   "execution_count": 19,
   "metadata": {},
   "outputs": [
    {
     "data": {
      "image/png": "[encoded data removed]",
      "text/plain": [
       "<Figure size 432x288 with 1 Axes>"
      ]
     },
     "metadata": {
      "needs_background": "light"
     },
     "output_type": "display_data"
    }
   ],
   "source": [
    "plt.plot(history.history['loss'])\n",
    "plt.title('model loss')\n",
    "plt.ylabel('loss')\n",
    "plt.xlabel('epoch')\n",
    "plt.legend(['train'], loc='upper left')\n",
    "plt.show()"
   ]
  },
  {
   "cell_type": "markdown",
   "metadata": {},
   "source": [
    "# The stage is yours..."
   ]
  },
  {
   "cell_type": "markdown",
   "metadata": {},
   "source": [
    "## Exercises\n",
    "\n",
    "1. Στο στάδιο της προ-επεξεργασίας αν είσασταν προσεκτικοί θα έχετε παρατηρήσει ότι υπάρχουν σύμβολα στα \"καθαρά δεδομένα\" που δεν είναι στην αγγλική γλώσσα όπως το \"件\". Στόχος σας είναι να αφαιρέσετε αυτούς τους χαρακτήρες. Για να το κάνετε μπορείτε να χρησιμοποιήσετε την NLTK ή Regular Expressions (import re). Κάντε τις απαραίτητες αλλαγές στην συνάρτηση process.\n",
    "\n",
    "2. Στο στάδιο του μοντέλου στο μέρος του tokenization δοκιμάστε να μεταβάλετε τις τιμές των max_len και max_words και παρατηρήστε πως αλλάζει η αποτελεσματικότητα του μοντέλου. \n",
    "HINT: Δοκιμάστε πολύ μεγάλες τιμές (>3000) ή πολύ μικρές (<50). \n",
    "\n",
    "3. Στο στάδιο του χτισήματος του μοντέλου μεταβάλετε τις τιμές στο dropout (κοντά στο 0 και κοντά στο 1). Αυξήστε τον αριθμό των epochs.Παρατηρείτε κάποια σημαντική αλλαγή στην ακρίβεια του μοντέλου;\n",
    "\n",
    "4. Δημιουργήστε μία συνάρτηση η οποία θα δέχετε ως όρισμα ένα string το οποίο θα αποτελείτε από το κείμενο ενός email και θα δίνει ως αποτέλεσμα την πρόβλεψη του μοντέλου (spam email ή όχι).\n",
    "ΗΙΝΤ #1: Μπορείτε να χρησιμοποιήσετε το περιεχόμενο της συνάρτησης process για την προεπεξεργασία.\n",
    "HINT #2: Δείτε πως πήραμε αποτελέσματα για το test set \n",
    "HINT #3: Θυμηθείτε ότι το μοντέλο επιστρέφει τιμές μεταξύ του 0 και του 1."
   ]
  }
 ],
 "metadata": {
  "interpreter": {
   "hash": "11ba84cc61e1652d49e5ce6e5816725147cb920be3d6a0cdb7ae5e163bf55bcc"
  },
  "kernelspec": {
   "display_name": "Python 3.7.7 64-bit",
   "name": "python3"
  },
  "language_info": {
   "codemirror_mode": {
    "name": "ipython",
    "version": 3
   },
   "file_extension": ".py",
   "mimetype": "text/x-python",
   "name": "python",
   "nbconvert_exporter": "python",
   "pygments_lexer": "ipython3",
   "version": "3.7.7"
  },
  "metadata": {
   "interpreter": {
    "hash": "11ba84cc61e1652d49e5ce6e5816725147cb920be3d6a0cdb7ae5e163bf55bcc"
   }
  },
  "orig_nbformat": 2
 },
 "nbformat": 4,
 "nbformat_minor": 2
}
